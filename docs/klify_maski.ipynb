{
 "cells": [
  {
   "cell_type": "code",
   "execution_count": null,
   "id": "8fa4b515",
   "metadata": {},
   "outputs": [],
   "source": [
    "from osgeo import gdal\n",
    "import pystac_client\n",
    "import planetary_computer as pc\n",
    "import rasterio\n",
    "import numpy as np\n",
    "import folium\n",
    "from folium.raster_layers import ImageOverlay\n",
    "import matplotlib.pyplot as plt\n",
    "from PIL import Image\n",
    "from rasterio.mask import mask\n",
    "from rasterio.warp import transform_geom, transform_bounds, calculate_default_transform, reproject, Resampling\n",
    "import matplotlib.pyplot as plt\n",
    "import matplotlib.colors as mcolors\n",
    "import io\n",
    "import base64\n",
    "from tqdm import tqdm\n",
    "from scipy.ndimage import median_filter\n",
    "from shapely.geometry import shape\n",
    "from rasterio.transform import from_origin, rowcol, from_bounds\n",
    "import tempfile"
   ]
  },
  {
   "cell_type": "code",
   "execution_count": 29,
   "id": "4c48432e",
   "metadata": {},
   "outputs": [],
   "source": [
    "# Połączenie z publicznym katalogiem STAC na Azure Planetary Computer\n",
    "stac_url = \"https://planetarycomputer.microsoft.com/api/stac/v1\"\n",
    "stac_client = pystac_client.Client.open(stac_url)"
   ]
  },
  {
   "cell_type": "code",
   "execution_count": 30,
   "id": "1681d1f4",
   "metadata": {},
   "outputs": [],
   "source": [
    "cords = [53.87, -0.04]\n",
    "aoi = {\n",
    "    \"type\": \"Polygon\",\n",
    "    \"coordinates\": [[\n",
    "        [cords[1]-0.1, cords[0]-0.1], [cords[1]+0.05, cords[0]-0.1], [cords[1]+0.05, cords[0]+0.1], [cords[1]-0.1, cords[0]+0.1], [cords[1]-0.1, cords[0]-0.1]\n",
    "    ]]\n",
    "}"
   ]
  },
  {
   "cell_type": "code",
   "execution_count": null,
   "id": "a694986f",
   "metadata": {},
   "outputs": [],
   "source": [
    "aoi_shape = shape(aoi)\n",
    "resolution = 0.0001\n",
    "\n",
    "aoi_minx, aoi_miny, aoi_maxx, aoi_maxy = aoi_shape.bounds\n",
    "\n",
    "aoi_width = int((aoi_maxx - aoi_minx) / resolution)\n",
    "aoi_height = int((aoi_maxy - aoi_miny) / resolution)\n",
    "\n",
    "transform = from_origin(aoi_minx, aoi_maxy, resolution, resolution)\n",
    "\n",
    "mask_data = np.ones((aoi_height, aoi_width), dtype=np.uint8)"
   ]
  },
  {
   "cell_type": "code",
   "execution_count": 33,
   "id": "02214670",
   "metadata": {},
   "outputs": [],
   "source": [
    "# Przycięcie zobrazowania do AOI\n",
    "def clip_raster(dataset, aoi):\n",
    "    from shapely.geometry import shape\n",
    "    import json\n",
    "    \n",
    "    # Konwersja AOI do układu współrzędnych rastra\n",
    "    aoi_transformed = transform_geom('EPSG:4326', dataset.crs, shape(aoi))\n",
    "    \n",
    "    aoi_geom = [json.loads(json.dumps(aoi_transformed))]\n",
    "    clipped_array, clipped_transform = mask(dataset, [shape(aoi_transformed)], crop=True)\n",
    "    return clipped_array[0], clipped_transform\n",
    "\n",
    "def reproject_array(array, src_crs, dst_crs, src_transform):\n",
    "    dst_transform, width, height = calculate_default_transform(\n",
    "        src_crs, dst_crs, array.shape[1], array.shape[0], *rasterio.transform.array_bounds(array.shape[0], array.shape[1], src_transform)\n",
    "    )\n",
    "    dst_array = np.empty((height, width), dtype=np.float32)\n",
    "\n",
    "    reproject(\n",
    "        source=array,\n",
    "        destination=dst_array,\n",
    "        src_transform=src_transform,\n",
    "        src_crs=src_crs,\n",
    "        dst_transform=dst_transform,\n",
    "        dst_crs=dst_crs,\n",
    "        resampling=Resampling.nearest\n",
    "    )\n",
    "    return dst_array, dst_transform"
   ]
  },
  {
   "cell_type": "code",
   "execution_count": 61,
   "id": "f70a475a",
   "metadata": {},
   "outputs": [
    {
     "name": "stdout",
     "output_type": "stream",
     "text": [
      "\n",
      "🔍 Przetwarzanie roku 2016\n",
      "Znaleziono 14 scen dla roku 2016\n"
     ]
    },
    {
     "name": "stderr",
     "output_type": "stream",
     "text": [
      "  0%|          | 0/14 [00:00<?, ?it/s]"
     ]
    },
    {
     "name": "stdout",
     "output_type": "stream",
     "text": [
      "Błąd w scenie S1A_IW_GRDH_1SDH_20160801T061410_20160801T061440_012403_013596_rtc: 'vh'\n"
     ]
    },
    {
     "name": "stderr",
     "output_type": "stream",
     "text": [
      " 21%|██▏       | 3/14 [00:06<00:23,  2.16s/it]"
     ]
    },
    {
     "name": "stdout",
     "output_type": "stream",
     "text": [
      "Pominięto scenę o innym wymiarze: S1A_IW_GRDH_1SDV_20160723T174955_20160723T175020_012279_01316F_rtc\n"
     ]
    },
    {
     "name": "stderr",
     "output_type": "stream",
     "text": [
      " 36%|███▌      | 5/14 [00:12<00:24,  2.71s/it]"
     ]
    },
    {
     "name": "stdout",
     "output_type": "stream",
     "text": [
      "Pominięto scenę o innym wymiarze: S1A_IW_GRDH_1SDV_20160713T062214_20160713T062239_012126_012C80_rtc\n"
     ]
    },
    {
     "name": "stderr",
     "output_type": "stream",
     "text": [
      " 43%|████▎     | 6/14 [00:14<00:20,  2.61s/it]"
     ]
    },
    {
     "name": "stdout",
     "output_type": "stream",
     "text": [
      "Pominięto scenę o innym wymiarze: S1A_IW_GRDH_1SDV_20160711T174942_20160711T175011_012104_012BC9_rtc\n"
     ]
    },
    {
     "name": "stderr",
     "output_type": "stream",
     "text": [
      " 64%|██████▍   | 9/14 [00:25<00:16,  3.25s/it]"
     ]
    },
    {
     "name": "stdout",
     "output_type": "stream",
     "text": [
      "Pominięto scenę o innym wymiarze: S1A_IW_GRDH_1SDV_20160701T062214_20160701T062239_011951_0126C6_rtc\n"
     ]
    },
    {
     "name": "stderr",
     "output_type": "stream",
     "text": [
      " 71%|███████▏  | 10/14 [00:29<00:13,  3.29s/it]"
     ]
    },
    {
     "name": "stdout",
     "output_type": "stream",
     "text": [
      "Pominięto scenę o innym wymiarze: S1A_IW_GRDH_1SDV_20160629T174953_20160629T175018_011929_012602_rtc\n"
     ]
    },
    {
     "name": "stderr",
     "output_type": "stream",
     "text": [
      " 86%|████████▌ | 12/14 [00:35<00:06,  3.15s/it]"
     ]
    },
    {
     "name": "stdout",
     "output_type": "stream",
     "text": [
      "Pominięto scenę o innym wymiarze: S1A_IW_GRDH_1SDV_20160607T062213_20160607T062238_011601_011BB5_rtc\n"
     ]
    },
    {
     "name": "stderr",
     "output_type": "stream",
     "text": [
      " 93%|█████████▎| 13/14 [00:38<00:03,  3.11s/it]"
     ]
    },
    {
     "name": "stdout",
     "output_type": "stream",
     "text": [
      "Pominięto scenę o innym wymiarze: S1A_IW_GRDH_1SDV_20160605T174952_20160605T175017_011579_011B03_rtc\n"
     ]
    },
    {
     "name": "stderr",
     "output_type": "stream",
     "text": [
      "100%|██████████| 14/14 [00:40<00:00,  2.93s/it]\n",
      "C:\\Users\\ciego\\AppData\\Local\\Temp\\ipykernel_7800\\1886175484.py:39: RuntimeWarning: All-NaN slice encountered\n",
      "  vh_median = np.nanmedian(vh_array, axis=0)\n"
     ]
    },
    {
     "name": "stdout",
     "output_type": "stream",
     "text": [
      "✅ Obliczono medianę dla roku 2016\n",
      "\n",
      "🔍 Przetwarzanie roku 2021\n",
      "Znaleziono 38 scen dla roku 2021\n"
     ]
    },
    {
     "name": "stderr",
     "output_type": "stream",
     "text": [
      "  5%|▌         | 2/38 [00:04<01:24,  2.35s/it]"
     ]
    },
    {
     "name": "stdout",
     "output_type": "stream",
     "text": [
      "Pominięto scenę o innym wymiarze: S1B_IW_GRDH_1SDV_20210729T062157_20210729T062222_028005_03573F_rtc\n"
     ]
    },
    {
     "name": "stderr",
     "output_type": "stream",
     "text": [
      " 11%|█         | 4/38 [00:09<01:20,  2.38s/it]"
     ]
    },
    {
     "name": "stdout",
     "output_type": "stream",
     "text": [
      "Pominięto scenę o innym wymiarze: S1B_IW_GRDH_1SDV_20210727T174935_20210727T175000_027983_0356A8_rtc\n"
     ]
    },
    {
     "name": "stderr",
     "output_type": "stream",
     "text": [
      " 16%|█▌        | 6/38 [00:14<01:18,  2.47s/it]"
     ]
    },
    {
     "name": "stdout",
     "output_type": "stream",
     "text": [
      "Pominięto scenę o innym wymiarze: S1A_IW_GRDH_1SDV_20210723T062253_20210723T062318_038901_049714_rtc\n"
     ]
    },
    {
     "name": "stderr",
     "output_type": "stream",
     "text": [
      " 21%|██        | 8/38 [00:20<01:20,  2.68s/it]"
     ]
    },
    {
     "name": "stdout",
     "output_type": "stream",
     "text": [
      "Pominięto scenę o innym wymiarze: S1A_IW_GRDH_1SDV_20210721T175025_20210721T175050_038879_049676_rtc\n"
     ]
    },
    {
     "name": "stderr",
     "output_type": "stream",
     "text": [
      " 26%|██▋       | 10/38 [00:24<01:09,  2.47s/it]"
     ]
    },
    {
     "name": "stdout",
     "output_type": "stream",
     "text": [
      "Pominięto scenę o innym wymiarze: S1B_IW_GRDH_1SDV_20210717T062156_20210717T062221_027830_035220_rtc\n"
     ]
    },
    {
     "name": "stderr",
     "output_type": "stream",
     "text": [
      " 32%|███▏      | 12/38 [00:29<01:05,  2.51s/it]"
     ]
    },
    {
     "name": "stdout",
     "output_type": "stream",
     "text": [
      "Pominięto scenę o innym wymiarze: S1B_IW_GRDH_1SDV_20210715T174935_20210715T175000_027808_03517A_rtc\n"
     ]
    },
    {
     "name": "stderr",
     "output_type": "stream",
     "text": [
      " 37%|███▋      | 14/38 [00:33<00:54,  2.27s/it]"
     ]
    },
    {
     "name": "stdout",
     "output_type": "stream",
     "text": [
      "Pominięto scenę o innym wymiarze: S1A_IW_GRDH_1SDV_20210711T062252_20210711T062317_038726_0491D7_rtc\n"
     ]
    },
    {
     "name": "stderr",
     "output_type": "stream",
     "text": [
      " 42%|████▏     | 16/38 [00:39<00:58,  2.68s/it]"
     ]
    },
    {
     "name": "stdout",
     "output_type": "stream",
     "text": [
      "Pominięto scenę o innym wymiarze: S1A_IW_GRDH_1SDV_20210709T175024_20210709T175049_038704_049136_rtc\n"
     ]
    },
    {
     "name": "stderr",
     "output_type": "stream",
     "text": [
      " 47%|████▋     | 18/38 [00:45<00:51,  2.60s/it]"
     ]
    },
    {
     "name": "stdout",
     "output_type": "stream",
     "text": [
      "Pominięto scenę o innym wymiarze: S1B_IW_GRDH_1SDV_20210705T062156_20210705T062221_027655_034CEF_rtc\n"
     ]
    },
    {
     "name": "stderr",
     "output_type": "stream",
     "text": [
      " 55%|█████▌    | 21/38 [00:51<00:41,  2.43s/it]"
     ]
    },
    {
     "name": "stdout",
     "output_type": "stream",
     "text": [
      "Pominięto scenę o innym wymiarze: S1A_IW_GRDH_1SDV_20210629T062251_20210629T062316_038551_048C97_rtc\n"
     ]
    },
    {
     "name": "stderr",
     "output_type": "stream",
     "text": [
      " 61%|██████    | 23/38 [00:56<00:37,  2.50s/it]"
     ]
    },
    {
     "name": "stdout",
     "output_type": "stream",
     "text": [
      "Pominięto scenę o innym wymiarze: S1A_IW_GRDH_1SDV_20210627T175023_20210627T175048_038529_048BF5_rtc\n"
     ]
    },
    {
     "name": "stderr",
     "output_type": "stream",
     "text": [
      " 66%|██████▌   | 25/38 [01:02<00:32,  2.53s/it]"
     ]
    },
    {
     "name": "stdout",
     "output_type": "stream",
     "text": [
      "Pominięto scenę o innym wymiarze: S1B_IW_GRDH_1SDV_20210623T062155_20210623T062220_027480_0347FD_rtc\n"
     ]
    },
    {
     "name": "stderr",
     "output_type": "stream",
     "text": [
      " 71%|███████   | 27/38 [01:07<00:29,  2.68s/it]"
     ]
    },
    {
     "name": "stdout",
     "output_type": "stream",
     "text": [
      "Pominięto scenę o innym wymiarze: S1B_IW_GRDH_1SDV_20210621T174933_20210621T174958_027458_03476E_rtc\n"
     ]
    },
    {
     "name": "stderr",
     "output_type": "stream",
     "text": [
      " 76%|███████▋  | 29/38 [01:12<00:22,  2.54s/it]"
     ]
    },
    {
     "name": "stdout",
     "output_type": "stream",
     "text": [
      "Pominięto scenę o innym wymiarze: S1A_IW_GRDH_1SDV_20210617T062250_20210617T062315_038376_048753_rtc\n"
     ]
    },
    {
     "name": "stderr",
     "output_type": "stream",
     "text": [
      " 79%|███████▉  | 30/38 [01:15<00:21,  2.69s/it]"
     ]
    },
    {
     "name": "stdout",
     "output_type": "stream",
     "text": [
      "Pominięto scenę o innym wymiarze: S1A_IW_GRDH_1SDV_20210615T175023_20210615T175048_038354_0486B8_rtc\n"
     ]
    },
    {
     "name": "stderr",
     "output_type": "stream",
     "text": [
      " 84%|████████▍ | 32/38 [01:20<00:15,  2.51s/it]"
     ]
    },
    {
     "name": "stdout",
     "output_type": "stream",
     "text": [
      "Pominięto scenę o innym wymiarze: S1B_IW_GRDH_1SDV_20210611T062154_20210611T062219_027305_0342DE_rtc\n"
     ]
    },
    {
     "name": "stderr",
     "output_type": "stream",
     "text": [
      " 89%|████████▉ | 34/38 [01:25<00:10,  2.59s/it]"
     ]
    },
    {
     "name": "stdout",
     "output_type": "stream",
     "text": [
      "Pominięto scenę o innym wymiarze: S1B_IW_GRDH_1SDV_20210609T174933_20210609T174958_027283_03423A_rtc\n"
     ]
    },
    {
     "name": "stderr",
     "output_type": "stream",
     "text": [
      " 95%|█████████▍| 36/38 [01:30<00:04,  2.49s/it]"
     ]
    },
    {
     "name": "stdout",
     "output_type": "stream",
     "text": [
      "Pominięto scenę o innym wymiarze: S1A_IW_GRDH_1SDV_20210605T062250_20210605T062315_038201_048221_rtc\n"
     ]
    },
    {
     "name": "stderr",
     "output_type": "stream",
     "text": [
      "100%|██████████| 38/38 [01:38<00:00,  2.58s/it]"
     ]
    },
    {
     "name": "stdout",
     "output_type": "stream",
     "text": [
      "Pominięto scenę o innym wymiarze: S1A_IW_GRDH_1SDV_20210603T175022_20210603T175047_038179_048182_rtc\n"
     ]
    },
    {
     "name": "stderr",
     "output_type": "stream",
     "text": [
      "\n",
      "C:\\Users\\ciego\\AppData\\Local\\Temp\\ipykernel_7800\\1886175484.py:39: RuntimeWarning: All-NaN slice encountered\n",
      "  vh_median = np.nanmedian(vh_array, axis=0)\n"
     ]
    },
    {
     "name": "stdout",
     "output_type": "stream",
     "text": [
      "✅ Obliczono medianę dla roku 2021\n",
      "\n",
      "🔍 Przetwarzanie roku 2023\n",
      "Znaleziono 20 scen dla roku 2023\n"
     ]
    },
    {
     "name": "stderr",
     "output_type": "stream",
     "text": [
      " 15%|█▌        | 3/20 [00:07<00:43,  2.56s/it]"
     ]
    },
    {
     "name": "stdout",
     "output_type": "stream",
     "text": [
      "Pominięto scenę o innym wymiarze: S1A_IW_GRDH_1SDV_20230725T062304_20230725T062329_049576_05F614_rtc\n"
     ]
    },
    {
     "name": "stderr",
     "output_type": "stream",
     "text": [
      " 20%|██        | 4/20 [00:10<00:41,  2.61s/it]"
     ]
    },
    {
     "name": "stdout",
     "output_type": "stream",
     "text": [
      "Pominięto scenę o innym wymiarze: S1A_IW_GRDH_1SDV_20230723T175036_20230723T175101_049554_05F56C_rtc\n"
     ]
    },
    {
     "name": "stderr",
     "output_type": "stream",
     "text": [
      " 30%|███       | 6/20 [00:15<00:34,  2.46s/it]"
     ]
    },
    {
     "name": "stdout",
     "output_type": "stream",
     "text": [
      "Pominięto scenę o innym wymiarze: S1A_IW_GRDH_1SDV_20230713T062303_20230713T062328_049401_05F0B8_rtc\n"
     ]
    },
    {
     "name": "stderr",
     "output_type": "stream",
     "text": [
      " 35%|███▌      | 7/20 [00:18<00:32,  2.51s/it]"
     ]
    },
    {
     "name": "stdout",
     "output_type": "stream",
     "text": [
      "Pominięto scenę o innym wymiarze: S1A_IW_GRDH_1SDV_20230711T175035_20230711T175100_049379_05F019_rtc\n"
     ]
    },
    {
     "name": "stderr",
     "output_type": "stream",
     "text": [
      " 50%|█████     | 10/20 [00:25<00:23,  2.36s/it]"
     ]
    },
    {
     "name": "stdout",
     "output_type": "stream",
     "text": [
      "Pominięto scenę o innym wymiarze: S1A_IW_GRDH_1SDV_20230701T062302_20230701T062327_049226_05EB4B_rtc\n"
     ]
    },
    {
     "name": "stderr",
     "output_type": "stream",
     "text": [
      " 55%|█████▌    | 11/20 [00:27<00:21,  2.44s/it]"
     ]
    },
    {
     "name": "stdout",
     "output_type": "stream",
     "text": [
      "Pominięto scenę o innym wymiarze: S1A_IW_GRDH_1SDV_20230629T175034_20230629T175059_049204_05EAAA_rtc\n"
     ]
    },
    {
     "name": "stderr",
     "output_type": "stream",
     "text": [
      " 70%|███████   | 14/20 [00:34<00:14,  2.41s/it]"
     ]
    },
    {
     "name": "stdout",
     "output_type": "stream",
     "text": [
      "Pominięto scenę o innym wymiarze: S1A_IW_GRDH_1SDV_20230619T062302_20230619T062327_049051_05E600_rtc\n"
     ]
    },
    {
     "name": "stderr",
     "output_type": "stream",
     "text": [
      " 75%|███████▌  | 15/20 [00:38<00:13,  2.77s/it]"
     ]
    },
    {
     "name": "stdout",
     "output_type": "stream",
     "text": [
      "Pominięto scenę o innym wymiarze: S1A_IW_GRDH_1SDV_20230617T175034_20230617T175059_049029_05E55D_rtc\n"
     ]
    },
    {
     "name": "stderr",
     "output_type": "stream",
     "text": [
      " 90%|█████████ | 18/20 [00:46<00:05,  2.70s/it]"
     ]
    },
    {
     "name": "stdout",
     "output_type": "stream",
     "text": [
      "Pominięto scenę o innym wymiarze: S1A_IW_GRDH_1SDV_20230607T062300_20230607T062325_048876_05E0AB_rtc\n"
     ]
    },
    {
     "name": "stderr",
     "output_type": "stream",
     "text": [
      " 95%|█████████▌| 19/20 [00:49<00:02,  2.84s/it]"
     ]
    },
    {
     "name": "stdout",
     "output_type": "stream",
     "text": [
      "Pominięto scenę o innym wymiarze: S1A_IW_GRDH_1SDV_20230605T175033_20230605T175058_048854_05E008_rtc\n"
     ]
    },
    {
     "name": "stderr",
     "output_type": "stream",
     "text": [
      "100%|██████████| 20/20 [00:53<00:00,  2.65s/it]\n",
      "C:\\Users\\ciego\\AppData\\Local\\Temp\\ipykernel_7800\\1886175484.py:39: RuntimeWarning: All-NaN slice encountered\n",
      "  vh_median = np.nanmedian(vh_array, axis=0)\n"
     ]
    },
    {
     "name": "stdout",
     "output_type": "stream",
     "text": [
      "✅ Obliczono medianę dla roku 2023\n"
     ]
    }
   ],
   "source": [
    "years = [2016, 2021, 2023] #rok 2022 jest jakiś dziwny, nie polecam\n",
    "vh_medians_by_year = {}\n",
    "\n",
    "for year in years:\n",
    "    print(f\"\\n🔍 Przetwarzanie roku {year}\")\n",
    "    time_range = f\"{year}-06-01/{year}-08-01\"\n",
    "\n",
    "    search = stac_client.search(\n",
    "        collections=[\"sentinel-1-rtc\"],\n",
    "        intersects=aoi,\n",
    "        datetime=time_range,\n",
    "    )\n",
    "    items = list(search.items())\n",
    "    print(f\"Znaleziono {len(items)} scen dla roku {year}\")\n",
    "\n",
    "    vh_stack = []\n",
    "\n",
    "    for item in tqdm(items):\n",
    "        try:\n",
    "            href_vh = pc.sign(item.assets[\"vh\"].href)\n",
    "\n",
    "            with rasterio.open(href_vh) as vh_ds:\n",
    "                vh, red_transform = clip_raster(vh_ds, aoi)\n",
    "                vh = np.where(vh == -32768, np.nan, vh).astype(np.float32)\n",
    "\n",
    "            if not vh_stack:\n",
    "                vh_stack.append(vh)\n",
    "            elif vh.shape == vh_stack[0].shape:\n",
    "                vh_stack.append(vh)\n",
    "            else:\n",
    "                print(f\"Pominięto scenę o innym wymiarze: {item.id}\")\n",
    "\n",
    "        except Exception as e:\n",
    "            print(f\"Błąd w scenie {item.id}: {e}\")\n",
    "            continue\n",
    "\n",
    "    if vh_stack:\n",
    "        vh_array = np.stack(vh_stack)\n",
    "        vh_median = np.nanmedian(vh_array, axis=0)\n",
    "        vh_medians_by_year[year] = vh_median\n",
    "        print(f\"✅ Obliczono medianę dla roku {year}\")\n",
    "    else:\n",
    "        print(f\"⚠️ Brak poprawnych danych dla roku {year}\")"
   ]
  },
  {
   "cell_type": "code",
   "execution_count": 62,
   "id": "14f562ce",
   "metadata": {},
   "outputs": [
    {
     "name": "stdout",
     "output_type": "stream",
     "text": [
      "Zrobiono maskę wody dla roku 2016\n",
      "Zrobiono maskę wody dla roku 2021\n",
      "Zrobiono maskę wody dla roku 2023\n"
     ]
    }
   ],
   "source": [
    "water_mask_filtered_by_year = {}\n",
    "\n",
    "for year in years:\n",
    "    water_mask = (vh_medians_by_year.get(year) < 0.007)\n",
    "    water_mask_filtered = median_filter(water_mask.astype(np.uint8), size=3)\n",
    "    water_mask_filtered_by_year[year] = water_mask_filtered\n",
    "    print(f\"Zrobiono maskę wody dla roku {year}\")\n",
    "\n",
    "# Pobranie układu współrzędnych pliku\n",
    "dataset_crs = vh_ds.crs\n",
    "# Przekształcenie granic obrazu do WGS84\n",
    "height, width = vh.shape\n",
    "left, top = red_transform * (0, 0)  # Lewy górny róg\n",
    "right, bottom = red_transform * (width, height)  # Prawy dolny róg\n",
    "bounds = transform_bounds(dataset_crs, 'EPSG:4326', left, bottom, right, top)"
   ]
  },
  {
   "cell_type": "code",
   "execution_count": 63,
   "id": "ab154d49",
   "metadata": {},
   "outputs": [
    {
     "name": "stdout",
     "output_type": "stream",
     "text": [
      "Zmieniono uklad wspulzednych dla roku: 2016\n",
      "Zmieniono uklad wspulzednych dla roku: 2021\n",
      "Zmieniono uklad wspulzednych dla roku: 2023\n"
     ]
    }
   ],
   "source": [
    "water_mask_reprojected_by_year = {}\n",
    "for year in years:\n",
    "    water_mask_reprojected, _ = reproject_array(water_mask_filtered_by_year.get(year), dataset_crs, 'EPSG:4326', red_transform)\n",
    "    water_mask_reprojected_by_year[year] = water_mask_reprojected\n",
    "    print(f\"Zmieniono uklad wspulzednych dla roku: {year}\")"
   ]
  },
  {
   "cell_type": "code",
   "execution_count": 64,
   "id": "e1a2f676",
   "metadata": {},
   "outputs": [
    {
     "name": "stdout",
     "output_type": "stream",
     "text": [
      "Przyciąto maskę dla roku: 2016\n",
      "Przyciąto maskę dla roku: 2021\n",
      "Przyciąto maskę dla roku: 2023\n"
     ]
    }
   ],
   "source": [
    "water_mask_bounds = water_mask_reprojected_by_year[2023]\n",
    "minx, miny, maxx, maxy = bounds\n",
    "height, width = water_mask_bounds.shape\n",
    "\n",
    "# Odtworzenie transformacji\n",
    "transform_water = from_bounds(minx, miny, maxx, maxy, width, height)\n",
    "row_start, col_start = rowcol(transform_water , aoi_minx, aoi_maxy)  # top-left\n",
    "row_stop, col_stop = rowcol(transform_water , aoi_maxx, aoi_miny)     # bottom-right\n",
    "\n",
    "# Upewnij się, że indeksy są we właściwej kolejności\n",
    "row_start, row_stop = sorted([row_start, row_stop])\n",
    "col_start, col_stop = sorted([col_start, col_stop])\n",
    "\n",
    "water_mask_clipped_by_year = {}\n",
    "for year in years:\n",
    "    water_mask_clipped = water_mask_reprojected_by_year.get(year)\n",
    "    water_mask_clipped = water_mask_clipped[row_start:row_stop, col_start:col_stop]\n",
    "    water_mask_clipped_by_year[year] = water_mask_clipped\n",
    "    print(f\"Przyciąto maskę dla roku: {year}\")\n"
   ]
  },
  {
   "cell_type": "code",
   "execution_count": 65,
   "id": "640c75e2",
   "metadata": {},
   "outputs": [
    {
     "name": "stdout",
     "output_type": "stream",
     "text": [
      "Dodano warstwe dla roku: 2016\n",
      "Dodano warstwe dla roku: 2021\n",
      "Dodano warstwe dla roku: 2023\n"
     ]
    }
   ],
   "source": [
    "water_mask_colored_by_year = {}\n",
    "for year in years:\n",
    "    cmap = plt.get_cmap('RdYlGn')  # Czerwony-żółty-zielony\n",
    "    norm = mcolors.Normalize(vmin=0, vmax=1)\n",
    "    mask_colored = cmap(norm(water_mask_clipped_by_year.get(year)))[:, :, :3]  # Usunięcie kanału alfa\n",
    "    mask_colored = (mask_colored * 255).astype(np.uint8)\n",
    "    # Tworzenie obrazu VH\n",
    "    image = Image.fromarray(mask_colored, mode=\"RGB\")\n",
    "    image = image.convert(\"RGBA\")\n",
    "\n",
    "    # Konwersja obrazu na format base64\n",
    "    image_buffer = io.BytesIO()\n",
    "    image.save(image_buffer, format='PNG')\n",
    "    image_data = base64.b64encode(image_buffer.getvalue()).decode('utf-8')\n",
    "\n",
    "    # Zapisanie obrazu NDVI do pliku tymczasowego\n",
    "    temp_file = tempfile.NamedTemporaryFile(suffix='.png', delete=False)\n",
    "    image.save(temp_file.name, format='PNG')\n",
    "    image_colored = temp_file.name\n",
    "    water_mask_colored_by_year[year] = image_colored\n",
    "    print(f\"Dodano warstwe dla roku: {year}\")\n"
   ]
  },
  {
   "cell_type": "code",
   "execution_count": 66,
   "id": "227b73b1",
   "metadata": {},
   "outputs": [
    {
     "data": {
      "text/html": [
       "<div style=\"width:100%;\"><div style=\"position:relative;width:100%;height:0;padding-bottom:60%;\"><span style=\"color:#565656\">Make this Notebook Trusted to load map: File -> Trust Notebook</span><iframe srcdoc=\"&lt;!DOCTYPE html&gt;\n",
       "&lt;html&gt;\n",
       "&lt;head&gt;\n",
       "    \n",
       "    &lt;meta http-equiv=&quot;content-type&quot; content=&quot;text/html; charset=UTF-8&quot; /&gt;\n",
       "    \n",
       "        &lt;script&gt;\n",
       "            L_NO_TOUCH = false;\n",
       "            L_DISABLE_3D = false;\n",
       "        &lt;/script&gt;\n",
       "    \n",
       "    &lt;style&gt;html, body {width: 100%;height: 100%;margin: 0;padding: 0;}&lt;/style&gt;\n",
       "    &lt;style&gt;#map {position:absolute;top:0;bottom:0;right:0;left:0;}&lt;/style&gt;\n",
       "    &lt;script src=&quot;https://cdn.jsdelivr.net/npm/leaflet@1.9.3/dist/leaflet.js&quot;&gt;&lt;/script&gt;\n",
       "    &lt;script src=&quot;https://code.jquery.com/jquery-3.7.1.min.js&quot;&gt;&lt;/script&gt;\n",
       "    &lt;script src=&quot;https://cdn.jsdelivr.net/npm/bootstrap@5.2.2/dist/js/bootstrap.bundle.min.js&quot;&gt;&lt;/script&gt;\n",
       "    &lt;script src=&quot;https://cdnjs.cloudflare.com/ajax/libs/Leaflet.awesome-markers/2.0.2/leaflet.awesome-markers.js&quot;&gt;&lt;/script&gt;\n",
       "    &lt;link rel=&quot;stylesheet&quot; href=&quot;https://cdn.jsdelivr.net/npm/leaflet@1.9.3/dist/leaflet.css&quot;/&gt;\n",
       "    &lt;link rel=&quot;stylesheet&quot; href=&quot;https://cdn.jsdelivr.net/npm/bootstrap@5.2.2/dist/css/bootstrap.min.css&quot;/&gt;\n",
       "    &lt;link rel=&quot;stylesheet&quot; href=&quot;https://netdna.bootstrapcdn.com/bootstrap/3.0.0/css/bootstrap-glyphicons.css&quot;/&gt;\n",
       "    &lt;link rel=&quot;stylesheet&quot; href=&quot;https://cdn.jsdelivr.net/npm/@fortawesome/fontawesome-free@6.2.0/css/all.min.css&quot;/&gt;\n",
       "    &lt;link rel=&quot;stylesheet&quot; href=&quot;https://cdnjs.cloudflare.com/ajax/libs/Leaflet.awesome-markers/2.0.2/leaflet.awesome-markers.css&quot;/&gt;\n",
       "    &lt;link rel=&quot;stylesheet&quot; href=&quot;https://cdn.jsdelivr.net/gh/python-visualization/folium/folium/templates/leaflet.awesome.rotate.min.css&quot;/&gt;\n",
       "    \n",
       "            &lt;meta name=&quot;viewport&quot; content=&quot;width=device-width,\n",
       "                initial-scale=1.0, maximum-scale=1.0, user-scalable=no&quot; /&gt;\n",
       "            &lt;style&gt;\n",
       "                #map_d81d3fb778b1d0233cd581e6cf6b0363 {\n",
       "                    position: relative;\n",
       "                    width: 100.0%;\n",
       "                    height: 100.0%;\n",
       "                    left: 0.0%;\n",
       "                    top: 0.0%;\n",
       "                }\n",
       "                .leaflet-container { font-size: 1rem; }\n",
       "            &lt;/style&gt;\n",
       "        \n",
       "    \n",
       "                &lt;style&gt;\n",
       "                    .leaflet-image-layer {\n",
       "                        /* old android/safari*/\n",
       "                        image-rendering: -webkit-optimize-contrast;\n",
       "                        image-rendering: crisp-edges; /* safari */\n",
       "                        image-rendering: pixelated; /* chrome */\n",
       "                        image-rendering: -moz-crisp-edges; /* firefox */\n",
       "                        image-rendering: -o-crisp-edges; /* opera */\n",
       "                        -ms-interpolation-mode: nearest-neighbor; /* ie */\n",
       "                    }\n",
       "                &lt;/style&gt;\n",
       "            \n",
       "&lt;/head&gt;\n",
       "&lt;body&gt;\n",
       "    \n",
       "    \n",
       "            &lt;div class=&quot;folium-map&quot; id=&quot;map_d81d3fb778b1d0233cd581e6cf6b0363&quot; &gt;&lt;/div&gt;\n",
       "        \n",
       "&lt;/body&gt;\n",
       "&lt;script&gt;\n",
       "    \n",
       "    \n",
       "            var map_d81d3fb778b1d0233cd581e6cf6b0363 = L.map(\n",
       "                &quot;map_d81d3fb778b1d0233cd581e6cf6b0363&quot;,\n",
       "                {\n",
       "                    center: [53.86999373050445, -0.0653616964011685],\n",
       "                    crs: L.CRS.EPSG3857,\n",
       "                    ...{\n",
       "  &quot;zoom&quot;: 10,\n",
       "  &quot;zoomControl&quot;: true,\n",
       "  &quot;preferCanvas&quot;: false,\n",
       "}\n",
       "\n",
       "                }\n",
       "            );\n",
       "\n",
       "            \n",
       "\n",
       "        \n",
       "    \n",
       "            var tile_layer_b77d0d1615dffdba0feab82fc90b2484 = L.tileLayer(\n",
       "                &quot;https://tile.openstreetmap.org/{z}/{x}/{y}.png&quot;,\n",
       "                {\n",
       "  &quot;minZoom&quot;: 0,\n",
       "  &quot;maxZoom&quot;: 19,\n",
       "  &quot;maxNativeZoom&quot;: 19,\n",
       "  &quot;noWrap&quot;: false,\n",
       "  &quot;attribution&quot;: &quot;\\u0026copy; \\u003ca href=\\&quot;https://www.openstreetmap.org/copyright\\&quot;\\u003eOpenStreetMap\\u003c/a\\u003e contributors&quot;,\n",
       "  &quot;subdomains&quot;: &quot;abc&quot;,\n",
       "  &quot;detectRetina&quot;: false,\n",
       "  &quot;tms&quot;: false,\n",
       "  &quot;opacity&quot;: 1,\n",
       "}\n",
       "\n",
       "            );\n",
       "        \n",
       "    \n",
       "            tile_layer_b77d0d1615dffdba0feab82fc90b2484.addTo(map_d81d3fb778b1d0233cd581e6cf6b0363);\n",
       "        \n",
       "    \n",
       "            var image_overlay_f40c6b84a4da1a4ed5d7a6d7a909a626 = L.imageOverlay(\n",
       "                &quot;data:image/png;base64,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&quot;,\n",
       "                [[53.769999999999996, -0.14], [53.97, 0.010000000000000002]],\n",
       "                {\n",
       "  &quot;opacity&quot;: 0.5,\n",
       "}\n",
       "            );\n",
       "        \n",
       "    \n",
       "            image_overlay_f40c6b84a4da1a4ed5d7a6d7a909a626.addTo(map_d81d3fb778b1d0233cd581e6cf6b0363);\n",
       "        \n",
       "    \n",
       "            var image_overlay_dad0b429db1003ebdb6ec9032841253c = L.imageOverlay(\n",
       "                &quot;data:image/png;base64,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&quot;,\n",
       "                [[53.769999999999996, -0.14], [53.97, 0.010000000000000002]],\n",
       "                {\n",
       "  &quot;opacity&quot;: 0.5,\n",
       "}\n",
       "            );\n",
       "        \n",
       "    \n",
       "            image_overlay_dad0b429db1003ebdb6ec9032841253c.addTo(map_d81d3fb778b1d0233cd581e6cf6b0363);\n",
       "        \n",
       "    \n",
       "            var image_overlay_02a305d0aba170e7b3d0bec2cdfe4056 = L.imageOverlay(\n",
       "                &quot;data:image/png;base64,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&quot;,\n",
       "                [[53.769999999999996, -0.14], [53.97, 0.010000000000000002]],\n",
       "                {\n",
       "  &quot;opacity&quot;: 0.5,\n",
       "}\n",
       "            );\n",
       "        \n",
       "    \n",
       "            image_overlay_02a305d0aba170e7b3d0bec2cdfe4056.addTo(map_d81d3fb778b1d0233cd581e6cf6b0363);\n",
       "        \n",
       "    \n",
       "            var layer_control_a240041e2dd4710def58b0318dc5189c_layers = {\n",
       "                base_layers : {\n",
       "                    &quot;openstreetmap&quot; : tile_layer_b77d0d1615dffdba0feab82fc90b2484,\n",
       "                },\n",
       "                overlays :  {\n",
       "                    &quot;2016 Mask&quot; : image_overlay_f40c6b84a4da1a4ed5d7a6d7a909a626,\n",
       "                    &quot;2021 Mask&quot; : image_overlay_dad0b429db1003ebdb6ec9032841253c,\n",
       "                    &quot;2023 Mask&quot; : image_overlay_02a305d0aba170e7b3d0bec2cdfe4056,\n",
       "                },\n",
       "            };\n",
       "            let layer_control_a240041e2dd4710def58b0318dc5189c = L.control.layers(\n",
       "                layer_control_a240041e2dd4710def58b0318dc5189c_layers.base_layers,\n",
       "                layer_control_a240041e2dd4710def58b0318dc5189c_layers.overlays,\n",
       "                {\n",
       "  &quot;position&quot;: &quot;topright&quot;,\n",
       "  &quot;collapsed&quot;: true,\n",
       "  &quot;autoZIndex&quot;: true,\n",
       "}\n",
       "            ).addTo(map_d81d3fb778b1d0233cd581e6cf6b0363);\n",
       "\n",
       "        \n",
       "&lt;/script&gt;\n",
       "&lt;/html&gt;\" style=\"position:absolute;width:100%;height:100%;left:0;top:0;border:none !important;\" allowfullscreen webkitallowfullscreen mozallowfullscreen></iframe></div></div>"
      ],
      "text/plain": [
       "<folium.folium.Map at 0x22492d00a50>"
      ]
     },
     "execution_count": 66,
     "metadata": {},
     "output_type": "execute_result"
    }
   ],
   "source": [
    "# Tworzenie mapy i dodanie NDVI jako warstwy rastrowej\n",
    "minx, miny, maxx, maxy = bounds\n",
    "m = folium.Map(location=[(miny + maxy) / 2, (minx + maxx) / 2], zoom_start=10)\n",
    "for year in years:\n",
    "    image_overlay = ImageOverlay(\n",
    "        image=water_mask_colored_by_year.get(year),\n",
    "        bounds=[[aoi_miny, aoi_minx], [aoi_maxy, aoi_maxx]],\n",
    "        opacity=0.5,\n",
    "        name=f\"{year} Mask\"\n",
    "    )\n",
    "    image_overlay.add_to(m)\n",
    "\n",
    "\n",
    "# Dodanie AOI jako poligon\n",
    "#folium.Polygon(\n",
    "#    locations=[(lat, lon) for lon, lat in aoi[\"coordinates\"][0]],\n",
    "#    color='blue',\n",
    "#    weight=2,\n",
    "#    fill=True,\n",
    "#    fill_opacity=0.2,\n",
    "#    popup='AOI'\n",
    "#).add_to(m)\n",
    "\n",
    "# Dodanie opcji sterowania warstwami\n",
    "folium.LayerControl().add_to(m)\n",
    "\n",
    "# Wyświetlenie mapy\n",
    "m"
   ]
  }
 ],
 "metadata": {
  "kernelspec": {
   "display_name": "daes-env",
   "language": "python",
   "name": "python3"
  },
  "language_info": {
   "codemirror_mode": {
    "name": "ipython",
    "version": 3
   },
   "file_extension": ".py",
   "mimetype": "text/x-python",
   "name": "python",
   "nbconvert_exporter": "python",
   "pygments_lexer": "ipython3",
   "version": "3.11.11"
  }
 },
 "nbformat": 4,
 "nbformat_minor": 5
}
